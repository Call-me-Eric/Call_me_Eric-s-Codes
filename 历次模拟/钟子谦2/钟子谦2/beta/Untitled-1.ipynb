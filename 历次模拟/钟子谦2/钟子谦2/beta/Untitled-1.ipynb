{
 "cells": [
  {
   "cell_type": "code",
   "execution_count": 5,
   "metadata": {},
   "outputs": [],
   "source": [
    "t=\"\"\"ex_cards1.in  ex_cards4.in  ex_meet1.in  ex_meet3.in  ex_sort2.in  ex_sort4.in    ex_subseq2.in   ex_cards2.in  ex_cards3.in   ex_meet2.in  ex_sort1.in  ex_sort3.in  ex_subseq1.in  ex_subseq3.in\"\"\""
   ]
  },
  {
   "cell_type": "code",
   "execution_count": 10,
   "metadata": {},
   "outputs": [
    {
     "name": "stdout",
     "output_type": "stream",
     "text": [
      "..\\..\\cards <ex_cards1.in >ex_cards1.ans\n",
      "..\\..\\cards <ex_cards4.in >ex_cards4.ans\n",
      "..\\..\\meet <ex_meet1.in >ex_meet1.ans\n",
      "..\\..\\meet <ex_meet3.in >ex_meet3.ans\n",
      "..\\..\\sort <ex_sort2.in >ex_sort2.ans\n",
      "..\\..\\sort <ex_sort4.in >ex_sort4.ans\n",
      "..\\..\\subseq <ex_subseq2.in >ex_subseq2.ans\n",
      "..\\..\\cards <ex_cards2.in >ex_cards2.ans\n",
      "..\\..\\cards <ex_cards3.in >ex_cards3.ans\n",
      "..\\..\\meet <ex_meet2.in >ex_meet2.ans\n",
      "..\\..\\sort <ex_sort1.in >ex_sort1.ans\n",
      "..\\..\\sort <ex_sort3.in >ex_sort3.ans\n",
      "..\\..\\subseq <ex_subseq1.in >ex_subseq1.ans\n",
      "..\\..\\subseq <ex_subseq3.in >ex_subseq3.ans\n"
     ]
    }
   ],
   "source": [
    "for u in t.split():\n",
    "    pn = u[u.find('_')+1:u.find('.in')-1]\n",
    "    s = f'..\\..\\{pn} <{u} >{u.replace(\".in\",\".ans\")}'\n",
    "    import os\n",
    "    print(s)\n",
    "    os.system(s)"
   ]
  },
  {
   "cell_type": "code",
   "execution_count": null,
   "metadata": {},
   "outputs": [],
   "source": []
  }
 ],
 "metadata": {
  "kernelspec": {
   "display_name": "Python 3",
   "language": "python",
   "name": "python3"
  },
  "language_info": {
   "codemirror_mode": {
    "name": "ipython",
    "version": 3
   },
   "file_extension": ".py",
   "mimetype": "text/x-python",
   "name": "python",
   "nbconvert_exporter": "python",
   "pygments_lexer": "ipython3",
   "version": "3.10.5"
  },
  "orig_nbformat": 4
 },
 "nbformat": 4,
 "nbformat_minor": 2
}
